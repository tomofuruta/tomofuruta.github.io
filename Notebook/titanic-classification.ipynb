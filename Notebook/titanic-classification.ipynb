{
  "nbformat": 4,
  "nbformat_minor": 0,
  "metadata": {
    "colab": {
      "provenance": []
    },
    "kernelspec": {
      "name": "python3",
      "display_name": "Python 3"
    },
    "language_info": {
      "name": "python"
    }
  },
  "cells": [
    {
      "cell_type": "markdown",
      "source": [
        "## **Titanic Classification**\n",
        "\n",
        "This is a classic classification problem involving the survivability of passengers on the Titanic."
      ],
      "metadata": {
        "id": "_4bCZtwE0tH3"
      }
    },
    {
      "cell_type": "code",
      "source": [
        "import pandas as pd\n",
        "from sklearn.model_selection import train_test_split\n",
        "from sklearn.linear_model import LogisticRegression\n",
        "from sklearn import metrics\n",
        "import matplotlib.pyplot as plt\n",
        "import scikitplot as skplt\n",
        "from sklearn.metrics import confusion_matrix, ConfusionMatrixDisplay"
      ],
      "metadata": {
        "id": "z-W5LWtk6PlU"
      },
      "execution_count": null,
      "outputs": []
    },
    {
      "cell_type": "markdown",
      "source": [
        "### Step 1\n",
        "Read in the dataset as a dataframe, and explore the data. As we explore, we are looking to determine what our target variable is."
      ],
      "metadata": {
        "id": "UDU19x_3592c"
      }
    },
    {
      "cell_type": "code",
      "source": [
        "titanic = pd.read_csv(\"Titanic.csv\")\n",
        "print(titanic)"
      ],
      "metadata": {
        "colab": {
          "base_uri": "https://localhost:8080/"
        },
        "id": "IlkGHHfv6Eo3",
        "outputId": "7337c762-357d-4b3d-f6fb-1bc783501502"
      },
      "execution_count": 19,
      "outputs": [
        {
          "output_type": "stream",
          "name": "stdout",
          "text": [
            "      Passenger Class     Sex    Age Survived\n",
            "0             1   3rd    Male  Child       No\n",
            "1             2   3rd    Male  Child       No\n",
            "2             3   3rd    Male  Child       No\n",
            "3             4   3rd    Male  Child       No\n",
            "4             5   3rd    Male  Child       No\n",
            "...         ...   ...     ...    ...      ...\n",
            "2196       2197  Crew  Female  Adult      Yes\n",
            "2197       2198  Crew  Female  Adult      Yes\n",
            "2198       2199  Crew  Female  Adult      Yes\n",
            "2199       2200  Crew  Female  Adult      Yes\n",
            "2200       2201  Crew  Female  Adult      Yes\n",
            "\n",
            "[2201 rows x 5 columns]\n"
          ]
        }
      ]
    },
    {
      "cell_type": "code",
      "source": [
        "print(titanic.info())"
      ],
      "metadata": {
        "colab": {
          "base_uri": "https://localhost:8080/"
        },
        "id": "otJwJeajFltm",
        "outputId": "2a0718f0-4a76-469b-bb10-3c25793834a5"
      },
      "execution_count": 20,
      "outputs": [
        {
          "output_type": "stream",
          "name": "stdout",
          "text": [
            "<class 'pandas.core.frame.DataFrame'>\n",
            "RangeIndex: 2201 entries, 0 to 2200\n",
            "Data columns (total 5 columns):\n",
            " #   Column     Non-Null Count  Dtype \n",
            "---  ------     --------------  ----- \n",
            " 0   Passenger  2201 non-null   int64 \n",
            " 1   Class      2201 non-null   object\n",
            " 2   Sex        2201 non-null   object\n",
            " 3   Age        2201 non-null   object\n",
            " 4   Survived   2201 non-null   object\n",
            "dtypes: int64(1), object(4)\n",
            "memory usage: 86.1+ KB\n",
            "None\n"
          ]
        }
      ]
    },
    {
      "cell_type": "markdown",
      "source": [
        "We can see that the dataset contains information about 2201 passengers, each with an associated class, sex, age, and whether they survived or not. Since we want to predict survivability, our target variable is [\"Survived\"]."
      ],
      "metadata": {
        "id": "mP4-zU386mNb"
      }
    },
    {
      "cell_type": "markdown",
      "source": [
        "###Step 2\n",
        "Creating X and Y dataframes.\n",
        "\n",
        "\n",
        "Before we can split the dataframe into X and Y, we must adjust the features.\n",
        "\n",
        "In this case, we see that the column [\"Passenger\"] does not provide any important information, as it is simply numbering each passenger. Therefore, we can drop the column from our dataframe."
      ],
      "metadata": {
        "id": "de3TPzWj64sY"
      }
    },
    {
      "cell_type": "code",
      "source": [
        "titanic = titanic.drop(columns=[\"Passenger\"])"
      ],
      "metadata": {
        "id": "HS4xC75z623e"
      },
      "execution_count": 5,
      "outputs": []
    },
    {
      "cell_type": "markdown",
      "source": [
        "We also see that [\"Class\"], [\"Sex\"], and [\"Age\"] are all categorical features. Since we want to run a regression, we need to turn them into dummy variables so that the algorithm will be able to understand the values."
      ],
      "metadata": {
        "id": "dfrAvzb38VTi"
      }
    },
    {
      "cell_type": "code",
      "source": [
        "titanic = pd.get_dummies(titanic,columns = ['Class','Sex', 'Age'])"
      ],
      "metadata": {
        "id": "jOaHcIuP8zGK"
      },
      "execution_count": 6,
      "outputs": []
    },
    {
      "cell_type": "markdown",
      "source": [
        "This is what our dataframe looks like now."
      ],
      "metadata": {
        "id": "wh2M5p1n89iJ"
      }
    },
    {
      "cell_type": "code",
      "source": [
        "print(titanic)"
      ],
      "metadata": {
        "colab": {
          "base_uri": "https://localhost:8080/"
        },
        "id": "JdnICFXU87ZZ",
        "outputId": "db69c852-ffe3-4d1d-9a34-f5420e973f00"
      },
      "execution_count": 7,
      "outputs": [
        {
          "output_type": "stream",
          "name": "stdout",
          "text": [
            "     Survived  Class_1st  Class_2nd  Class_3rd  Class_Crew  Sex_Female  \\\n",
            "0          No      False      False       True       False       False   \n",
            "1          No      False      False       True       False       False   \n",
            "2          No      False      False       True       False       False   \n",
            "3          No      False      False       True       False       False   \n",
            "4          No      False      False       True       False       False   \n",
            "...       ...        ...        ...        ...         ...         ...   \n",
            "2196      Yes      False      False      False        True        True   \n",
            "2197      Yes      False      False      False        True        True   \n",
            "2198      Yes      False      False      False        True        True   \n",
            "2199      Yes      False      False      False        True        True   \n",
            "2200      Yes      False      False      False        True        True   \n",
            "\n",
            "      Sex_Male  Age_Adult  Age_Child  \n",
            "0         True      False       True  \n",
            "1         True      False       True  \n",
            "2         True      False       True  \n",
            "3         True      False       True  \n",
            "4         True      False       True  \n",
            "...        ...        ...        ...  \n",
            "2196     False       True      False  \n",
            "2197     False       True      False  \n",
            "2198     False       True      False  \n",
            "2199     False       True      False  \n",
            "2200     False       True      False  \n",
            "\n",
            "[2201 rows x 9 columns]\n"
          ]
        }
      ]
    },
    {
      "cell_type": "markdown",
      "source": [
        "We can then assign the X and Y dataframes, where X contains the features and Y contains the target.\n",
        "\n"
      ],
      "metadata": {
        "id": "rMRmg4BJBeY6"
      }
    },
    {
      "cell_type": "code",
      "source": [
        "Y = titanic[\"Survived\"]\n",
        "X = titanic.drop(columns=[\"Survived\"])"
      ],
      "metadata": {
        "id": "tHmXCnZTBkod"
      },
      "execution_count": 8,
      "outputs": []
    },
    {
      "cell_type": "markdown",
      "source": [
        "### Step 3\n",
        "Partition the data into train and test sets.\n",
        "In our case, we will do a 70/30 split with random_state=2023."
      ],
      "metadata": {
        "id": "Jxj6NPVCA1YH"
      }
    },
    {
      "cell_type": "code",
      "source": [
        "from sklearn.model_selection import train_test_split\n",
        "X_train, X_test, y_train, y_test = train_test_split(X,Y,test_size=0.30,random_state=2023)"
      ],
      "metadata": {
        "id": "mnnn2fL0B9QO"
      },
      "execution_count": 10,
      "outputs": []
    },
    {
      "cell_type": "markdown",
      "source": [
        "### Step 4\n",
        "Fit the training data to a model of your choice. In our case, we will be using a logistic regression model."
      ],
      "metadata": {
        "id": "G2SHNkcnCKY8"
      }
    },
    {
      "cell_type": "code",
      "source": [
        "logReg = LogisticRegression(max_iter = 10000)\n",
        "logReg.fit(X_train,y_train)"
      ],
      "metadata": {
        "colab": {
          "base_uri": "https://localhost:8080/",
          "height": 74
        },
        "id": "k1hRjMKeCXLM",
        "outputId": "0c11644d-625c-4c74-f296-c32671cb2408"
      },
      "execution_count": 13,
      "outputs": [
        {
          "output_type": "execute_result",
          "data": {
            "text/plain": [
              "LogisticRegression(max_iter=10000)"
            ],
            "text/html": [
              "<style>#sk-container-id-2 {color: black;background-color: white;}#sk-container-id-2 pre{padding: 0;}#sk-container-id-2 div.sk-toggleable {background-color: white;}#sk-container-id-2 label.sk-toggleable__label {cursor: pointer;display: block;width: 100%;margin-bottom: 0;padding: 0.3em;box-sizing: border-box;text-align: center;}#sk-container-id-2 label.sk-toggleable__label-arrow:before {content: \"▸\";float: left;margin-right: 0.25em;color: #696969;}#sk-container-id-2 label.sk-toggleable__label-arrow:hover:before {color: black;}#sk-container-id-2 div.sk-estimator:hover label.sk-toggleable__label-arrow:before {color: black;}#sk-container-id-2 div.sk-toggleable__content {max-height: 0;max-width: 0;overflow: hidden;text-align: left;background-color: #f0f8ff;}#sk-container-id-2 div.sk-toggleable__content pre {margin: 0.2em;color: black;border-radius: 0.25em;background-color: #f0f8ff;}#sk-container-id-2 input.sk-toggleable__control:checked~div.sk-toggleable__content {max-height: 200px;max-width: 100%;overflow: auto;}#sk-container-id-2 input.sk-toggleable__control:checked~label.sk-toggleable__label-arrow:before {content: \"▾\";}#sk-container-id-2 div.sk-estimator input.sk-toggleable__control:checked~label.sk-toggleable__label {background-color: #d4ebff;}#sk-container-id-2 div.sk-label input.sk-toggleable__control:checked~label.sk-toggleable__label {background-color: #d4ebff;}#sk-container-id-2 input.sk-hidden--visually {border: 0;clip: rect(1px 1px 1px 1px);clip: rect(1px, 1px, 1px, 1px);height: 1px;margin: -1px;overflow: hidden;padding: 0;position: absolute;width: 1px;}#sk-container-id-2 div.sk-estimator {font-family: monospace;background-color: #f0f8ff;border: 1px dotted black;border-radius: 0.25em;box-sizing: border-box;margin-bottom: 0.5em;}#sk-container-id-2 div.sk-estimator:hover {background-color: #d4ebff;}#sk-container-id-2 div.sk-parallel-item::after {content: \"\";width: 100%;border-bottom: 1px solid gray;flex-grow: 1;}#sk-container-id-2 div.sk-label:hover label.sk-toggleable__label {background-color: #d4ebff;}#sk-container-id-2 div.sk-serial::before {content: \"\";position: absolute;border-left: 1px solid gray;box-sizing: border-box;top: 0;bottom: 0;left: 50%;z-index: 0;}#sk-container-id-2 div.sk-serial {display: flex;flex-direction: column;align-items: center;background-color: white;padding-right: 0.2em;padding-left: 0.2em;position: relative;}#sk-container-id-2 div.sk-item {position: relative;z-index: 1;}#sk-container-id-2 div.sk-parallel {display: flex;align-items: stretch;justify-content: center;background-color: white;position: relative;}#sk-container-id-2 div.sk-item::before, #sk-container-id-2 div.sk-parallel-item::before {content: \"\";position: absolute;border-left: 1px solid gray;box-sizing: border-box;top: 0;bottom: 0;left: 50%;z-index: -1;}#sk-container-id-2 div.sk-parallel-item {display: flex;flex-direction: column;z-index: 1;position: relative;background-color: white;}#sk-container-id-2 div.sk-parallel-item:first-child::after {align-self: flex-end;width: 50%;}#sk-container-id-2 div.sk-parallel-item:last-child::after {align-self: flex-start;width: 50%;}#sk-container-id-2 div.sk-parallel-item:only-child::after {width: 0;}#sk-container-id-2 div.sk-dashed-wrapped {border: 1px dashed gray;margin: 0 0.4em 0.5em 0.4em;box-sizing: border-box;padding-bottom: 0.4em;background-color: white;}#sk-container-id-2 div.sk-label label {font-family: monospace;font-weight: bold;display: inline-block;line-height: 1.2em;}#sk-container-id-2 div.sk-label-container {text-align: center;}#sk-container-id-2 div.sk-container {/* jupyter's `normalize.less` sets `[hidden] { display: none; }` but bootstrap.min.css set `[hidden] { display: none !important; }` so we also need the `!important` here to be able to override the default hidden behavior on the sphinx rendered scikit-learn.org. See: https://github.com/scikit-learn/scikit-learn/issues/21755 */display: inline-block !important;position: relative;}#sk-container-id-2 div.sk-text-repr-fallback {display: none;}</style><div id=\"sk-container-id-2\" class=\"sk-top-container\"><div class=\"sk-text-repr-fallback\"><pre>LogisticRegression(max_iter=10000)</pre><b>In a Jupyter environment, please rerun this cell to show the HTML representation or trust the notebook. <br />On GitHub, the HTML representation is unable to render, please try loading this page with nbviewer.org.</b></div><div class=\"sk-container\" hidden><div class=\"sk-item\"><div class=\"sk-estimator sk-toggleable\"><input class=\"sk-toggleable__control sk-hidden--visually\" id=\"sk-estimator-id-2\" type=\"checkbox\" checked><label for=\"sk-estimator-id-2\" class=\"sk-toggleable__label sk-toggleable__label-arrow\">LogisticRegression</label><div class=\"sk-toggleable__content\"><pre>LogisticRegression(max_iter=10000)</pre></div></div></div></div></div>"
            ]
          },
          "metadata": {},
          "execution_count": 13
        }
      ]
    },
    {
      "cell_type": "markdown",
      "source": [
        "We can observe the accuracy of our model by predicting using our model from our X_test dataframe and compare that with the actual values of y_test."
      ],
      "metadata": {
        "id": "m3Trx248CiBl"
      }
    },
    {
      "cell_type": "code",
      "source": [
        "y_pred = logReg.predict(X_test)\n",
        "from sklearn import metrics\n",
        "print(\"Accuracy: \", metrics.accuracy_score(y_test,y_pred))"
      ],
      "metadata": {
        "colab": {
          "base_uri": "https://localhost:8080/"
        },
        "id": "gwsW95t6C5dc",
        "outputId": "05b58604-dc17-4dee-cce4-6d9afe8f6ed1"
      },
      "execution_count": 14,
      "outputs": [
        {
          "output_type": "stream",
          "name": "stdout",
          "text": [
            "Accuracy:  0.7806354009077155\n"
          ]
        }
      ]
    },
    {
      "cell_type": "markdown",
      "source": [
        "Our model has an accuracy of just over 78%. Generally speaking, we want an accuracy score somewhere between 70% to 90%.\n",
        "\n",
        "We can also make other assessments about our model through a lift curve and a confusion matrix.\n"
      ],
      "metadata": {
        "id": "NANXyhQoDJKP"
      }
    },
    {
      "cell_type": "code",
      "source": [
        "y_probas = logReg.predict_proba(X_test)\n",
        "skplt.metrics.plot_lift_curve(y_test,y_probas)\n",
        "plt.show()"
      ],
      "metadata": {
        "colab": {
          "base_uri": "https://localhost:8080/",
          "height": 472
        },
        "id": "Ubug7Lv5D1Qs",
        "outputId": "bb7196dd-5964-4ede-dfa6-d5890e8f6419"
      },
      "execution_count": 15,
      "outputs": [
        {
          "output_type": "display_data",
          "data": {
            "text/plain": [
              "<Figure size 640x480 with 1 Axes>"
            ],
            "image/png": "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\n"
          },
          "metadata": {}
        }
      ]
    },
    {
      "cell_type": "code",
      "source": [
        "cnf_matrix = metrics.confusion_matrix(y_test, y_pred)\n",
        "print(cnf_matrix)\n",
        "print(logReg.classes_)\n",
        "ConfusionMatrixDisplay(confusion_matrix=cnf_matrix, display_labels=logReg.classes_).plot()\n",
        "plt.show()"
      ],
      "metadata": {
        "colab": {
          "base_uri": "https://localhost:8080/",
          "height": 501
        },
        "id": "Ex0cOV2SD73s",
        "outputId": "2e72eee4-a2ab-49de-a724-51a0087acb21"
      },
      "execution_count": 16,
      "outputs": [
        {
          "output_type": "stream",
          "name": "stdout",
          "text": [
            "[[409  32]\n",
            " [113 107]]\n",
            "['No' 'Yes']\n"
          ]
        },
        {
          "output_type": "display_data",
          "data": {
            "text/plain": [
              "<Figure size 640x480 with 2 Axes>"
            ],
            "image/png": "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\n"
          },
          "metadata": {}
        }
      ]
    },
    {
      "cell_type": "markdown",
      "source": [
        "### Step 5\n",
        "If we are satisfied with our model, we can now use it to predict the survivability of certain passengers.\n",
        "\n",
        "Example:\n",
        "Male adult passenger traveling in 3rd class\n",
        "\n"
      ],
      "metadata": {
        "id": "Nl7hg5I3EF7u"
      }
    },
    {
      "cell_type": "code",
      "source": [
        "person = [[0,0,1,0,0,1,1,0]]\n",
        "result = logReg.predict_proba(person)\n",
        "predicted_survivability = result[0]\n",
        "print(\"Probability a male adult traveling in 3rd class survive\", predicted_survivability[1])"
      ],
      "metadata": {
        "colab": {
          "base_uri": "https://localhost:8080/"
        },
        "id": "y79CWc5IEYEU",
        "outputId": "fa8e8bca-83a6-4585-8e2b-83f4410ec7a5"
      },
      "execution_count": 17,
      "outputs": [
        {
          "output_type": "stream",
          "name": "stdout",
          "text": [
            "Probability a male adult travleing in 3rd class survive 0.10406085394461904\n"
          ]
        },
      ],
    {
      "cell_type": "markdown",
      "source": [
        "Our model tells us that the probability of the 3rd class male adult surviving is around 10.4%, meaning the model would classify it as 'No'."
      ],
      "metadata": {
        "id": "WGbiENjAFHvV"
      }
    }
  ]
}
